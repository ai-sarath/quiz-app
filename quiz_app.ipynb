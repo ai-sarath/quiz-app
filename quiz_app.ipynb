{
  "nbformat": 4,
  "nbformat_minor": 0,
  "metadata": {
    "colab": {
      "provenance": [],
      "authorship_tag": "ABX9TyNSokcvO/FLwAMPl3Ny6LfK",
      "include_colab_link": true
    },
    "kernelspec": {
      "name": "python3",
      "display_name": "Python 3"
    },
    "language_info": {
      "name": "python"
    }
  },
  "cells": [
    {
      "cell_type": "markdown",
      "metadata": {
        "id": "view-in-github",
        "colab_type": "text"
      },
      "source": [
        "<a href=\"https://colab.research.google.com/github/ai-sarath/quiz-app/blob/main/quiz_app.ipynb\" target=\"_parent\"><img src=\"https://colab.research.google.com/assets/colab-badge.svg\" alt=\"Open In Colab\"/></a>"
      ]
    },
    {
      "cell_type": "code",
      "execution_count": 1,
      "metadata": {
        "colab": {
          "base_uri": "https://localhost:8080/"
        },
        "id": "2NSYfpE23Duh",
        "outputId": "ef998a21-e097-4a06-81f3-923411d89aaf"
      },
      "outputs": [
        {
          "output_type": "stream",
          "name": "stdout",
          "text": [
            "\n",
            "🎯 Welcome to the Python Quiz App!\n",
            "Answer the following questions by selecting the correct option.\n",
            "\n",
            "\n",
            "What is the output of: print(2 ** 3)?\n",
            "1. 5\n",
            "2. 6\n",
            "3. 8\n",
            "4. 9\n",
            "Enter your answer (1 to 4): 8\n",
            "Please enter a number between 1 and 4.\n",
            "Enter your answer (1 to 4): 3\n",
            "✅ Correct!\n",
            "\n",
            "\n",
            "Which keyword is used to define a function in Python?\n",
            "1. function\n",
            "2. define\n",
            "3. def\n",
            "4. func\n",
            "Enter your answer (1 to 4): 3\n",
            "✅ Correct!\n",
            "\n",
            "\n",
            "What is the correct file extension for Python files?\n",
            "1. .pt\n",
            "2. .py\n",
            "3. .pyt\n",
            "4. .python\n",
            "Enter your answer (1 to 4): 2\n",
            "✅ Correct!\n",
            "\n",
            "\n",
            "Which data structure is immutable?\n",
            "1. List\n",
            "2. Tuple\n",
            "3. Set\n",
            "4. Dictionary\n",
            "Enter your answer (1 to 4): 2\n",
            "✅ Correct!\n",
            "\n",
            "🧾 Quiz Completed!\n",
            "Your final score: 4/4\n"
          ]
        }
      ],
      "source": [
        "# quiz_app.py\n",
        "\n",
        "def show_question(question, options):\n",
        "    print(\"\\n\" + question)\n",
        "    for i, option in enumerate(options, start=1):\n",
        "        print(f\"{i}. {option}\")\n",
        "\n",
        "def get_user_answer(num_options):\n",
        "    while True:\n",
        "        try:\n",
        "            choice = int(input(\"Enter your answer (1 to {}): \".format(num_options)))\n",
        "            if 1 <= choice <= num_options:\n",
        "                return choice\n",
        "            else:\n",
        "                print(f\"Please enter a number between 1 and {num_options}.\")\n",
        "        except ValueError:\n",
        "            print(\"Invalid input. Please enter a number.\")\n",
        "\n",
        "def run_quiz(questions):\n",
        "    print(\"\\n🎯 Welcome to the Python Quiz App!\")\n",
        "    print(\"Answer the following questions by selecting the correct option.\\n\")\n",
        "\n",
        "    score = 0\n",
        "\n",
        "    for q in questions:\n",
        "        show_question(q['question'], q['options'])\n",
        "        user_choice = get_user_answer(len(q['options']))\n",
        "        correct_index = q['answer']\n",
        "\n",
        "        if user_choice == correct_index + 1:\n",
        "            print(\"✅ Correct!\\n\")\n",
        "            score += 1\n",
        "        else:\n",
        "            print(f\"❌ Wrong. The correct answer was: {q['options'][correct_index]}\\n\")\n",
        "\n",
        "    print(\"🧾 Quiz Completed!\")\n",
        "    print(f\"Your final score: {score}/{len(questions)}\")\n",
        "\n",
        "# Define your quiz questions\n",
        "quiz_questions = [\n",
        "    {\n",
        "        'question': \"What is the output of: print(2 ** 3)?\",\n",
        "        'options': [\"5\", \"6\", \"8\", \"9\"],\n",
        "        'answer': 2  # index of the correct option\n",
        "    },\n",
        "    {\n",
        "        'question': \"Which keyword is used to define a function in Python?\",\n",
        "        'options': [\"function\", \"define\", \"def\", \"func\"],\n",
        "        'answer': 2\n",
        "    },\n",
        "    {\n",
        "        'question': \"What is the correct file extension for Python files?\",\n",
        "        'options': [\".pt\", \".py\", \".pyt\", \".python\"],\n",
        "        'answer': 1\n",
        "    },\n",
        "    {\n",
        "        'question': \"Which data structure is immutable?\",\n",
        "        'options': [\"List\", \"Tuple\", \"Set\", \"Dictionary\"],\n",
        "        'answer': 1\n",
        "    },\n",
        "]\n",
        "\n",
        "# Run the quiz\n",
        "run_quiz(quiz_questions)"
      ]
    },
    {
      "cell_type": "code",
      "source": [],
      "metadata": {
        "id": "Q_fNBK5c3jXa"
      },
      "execution_count": null,
      "outputs": []
    }
  ]
}